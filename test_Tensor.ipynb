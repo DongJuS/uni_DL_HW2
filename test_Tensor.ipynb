{
 "cells": [
  {
   "cell_type": "code",
   "id": "initial_id",
   "metadata": {
    "collapsed": true,
    "ExecuteTime": {
     "end_time": "2024-10-27T15:23:37.780772Z",
     "start_time": "2024-10-27T15:23:37.768757Z"
    }
   },
   "source": [
    "import torch\n",
    "\n",
    "x = torch.zeros([2,3])\n",
    "print(x.shape)\n",
    "print(x)\n",
    "y = torch.zeros([1,2,3])\n",
    "print('y= ',y)\n",
    "print('y의 shape는 ? : ',y.shape)\n",
    "y= y.squeeze(0)\n",
    "print(y.shape)"
   ],
   "outputs": [
    {
     "name": "stdout",
     "output_type": "stream",
     "text": [
      "torch.Size([2, 3])\n",
      "tensor([[0., 0., 0.],\n",
      "        [0., 0., 0.]])\n",
      "y=  tensor([[[0., 0., 0.],\n",
      "         [0., 0., 0.]]])\n",
      "y의 shape는 ? :  torch.Size([1, 2, 3])\n",
      "torch.Size([2, 3])\n"
     ]
    }
   ],
   "execution_count": 17
  },
  {
   "metadata": {
    "ExecuteTime": {
     "end_time": "2024-10-27T17:03:08.641959Z",
     "start_time": "2024-10-27T17:03:08.626679Z"
    }
   },
   "cell_type": "code",
   "source": [
    "w = torch.ones((2,))\n",
    "print(w.shape)\n",
    "w"
   ],
   "id": "845dda20822627fb",
   "outputs": [
    {
     "name": "stdout",
     "output_type": "stream",
     "text": [
      "torch.Size([2])\n"
     ]
    },
    {
     "data": {
      "text/plain": [
       "tensor([1., 1.])"
      ]
     },
     "execution_count": 25,
     "metadata": {},
     "output_type": "execute_result"
    }
   ],
   "execution_count": 25
  }
 ],
 "metadata": {
  "kernelspec": {
   "display_name": "Python 3",
   "language": "python",
   "name": "python3"
  },
  "language_info": {
   "codemirror_mode": {
    "name": "ipython",
    "version": 2
   },
   "file_extension": ".py",
   "mimetype": "text/x-python",
   "name": "python",
   "nbconvert_exporter": "python",
   "pygments_lexer": "ipython2",
   "version": "2.7.6"
  }
 },
 "nbformat": 4,
 "nbformat_minor": 5
}
